{
  "cells": [
    {
      "cell_type": "code",
      "execution_count": null,
      "metadata": {
        "execution": {
          "iopub.execute_input": "2025-08-09T15:48:17.094985Z",
          "iopub.status.busy": "2025-08-09T15:48:17.093696Z",
          "iopub.status.idle": "2025-08-09T15:48:17.129768Z",
          "shell.execute_reply": "2025-08-09T15:48:17.128240Z",
          "shell.execute_reply.started": "2025-08-09T15:48:17.094941Z"
        },
        "id": "kZEo_mn6z55I",
        "tags": []
      },
      "outputs": [],
      "source": [
        "import pandas as pd\n",
        "import numpy as np\n",
        "from matplotlib import pyplot as plt"
      ]
    },
    {
      "cell_type": "code",
      "execution_count": null,
      "metadata": {
        "colab": {
          "base_uri": "https://localhost:8080/",
          "height": 206
        },
        "execution": {
          "iopub.execute_input": "2025-08-09T15:48:17.133110Z",
          "iopub.status.busy": "2025-08-09T15:48:17.132227Z",
          "iopub.status.idle": "2025-08-09T15:48:24.116528Z",
          "shell.execute_reply": "2025-08-09T15:48:24.115308Z",
          "shell.execute_reply.started": "2025-08-09T15:48:17.133062Z"
        },
        "id": "GB3SyF-j0Jju",
        "outputId": "b901c4b8-b19e-428e-fc0a-bcb37a7ac3be"
      },
      "outputs": [
        {
          "data": {
            "text/html": [
              "<div>\n",
              "<style scoped>\n",
              "    .dataframe tbody tr th:only-of-type {\n",
              "        vertical-align: middle;\n",
              "    }\n",
              "\n",
              "    .dataframe tbody tr th {\n",
              "        vertical-align: top;\n",
              "    }\n",
              "\n",
              "    .dataframe thead th {\n",
              "        text-align: right;\n",
              "    }\n",
              "</style>\n",
              "<table border=\"1\" class=\"dataframe\">\n",
              "  <thead>\n",
              "    <tr style=\"text-align: right;\">\n",
              "      <th></th>\n",
              "      <th>key</th>\n",
              "      <th>pickup_datetime</th>\n",
              "      <th>pickup_longitude</th>\n",
              "      <th>pickup_latitude</th>\n",
              "      <th>dropoff_longitude</th>\n",
              "      <th>dropoff_latitude</th>\n",
              "      <th>passenger_count</th>\n",
              "      <th>fare_amount</th>\n",
              "    </tr>\n",
              "  </thead>\n",
              "  <tbody>\n",
              "    <tr>\n",
              "      <th>0</th>\n",
              "      <td>2011-11-23 14:36:35.0000003</td>\n",
              "      <td>2011-11-23 14:36:35 UTC</td>\n",
              "      <td>-73.959075</td>\n",
              "      <td>40.783316</td>\n",
              "      <td>-73.959087</td>\n",
              "      <td>40.783345</td>\n",
              "      <td>1.0</td>\n",
              "      <td>2.5</td>\n",
              "    </tr>\n",
              "    <tr>\n",
              "      <th>1</th>\n",
              "      <td>2013-09-14 21:40:00.00000016</td>\n",
              "      <td>2013-09-14 21:40:00 UTC</td>\n",
              "      <td>-73.931612</td>\n",
              "      <td>40.771060</td>\n",
              "      <td>-73.929097</td>\n",
              "      <td>40.760542</td>\n",
              "      <td>1.0</td>\n",
              "      <td>5.5</td>\n",
              "    </tr>\n",
              "    <tr>\n",
              "      <th>2</th>\n",
              "      <td>2012-04-30 18:13:19.0000002</td>\n",
              "      <td>2012-04-30 18:13:19 UTC</td>\n",
              "      <td>-73.997929</td>\n",
              "      <td>40.740983</td>\n",
              "      <td>-74.007197</td>\n",
              "      <td>40.727725</td>\n",
              "      <td>2.0</td>\n",
              "      <td>6.5</td>\n",
              "    </tr>\n",
              "    <tr>\n",
              "      <th>3</th>\n",
              "      <td>2010-10-22 15:03:47.0000001</td>\n",
              "      <td>2010-10-22 15:03:47 UTC</td>\n",
              "      <td>-73.980608</td>\n",
              "      <td>40.742449</td>\n",
              "      <td>-73.985609</td>\n",
              "      <td>40.755807</td>\n",
              "      <td>1.0</td>\n",
              "      <td>6.5</td>\n",
              "    </tr>\n",
              "    <tr>\n",
              "      <th>4</th>\n",
              "      <td>2011-02-18 18:08:16.0000002</td>\n",
              "      <td>2011-02-18 18:08:16 UTC</td>\n",
              "      <td>-74.008884</td>\n",
              "      <td>40.720314</td>\n",
              "      <td>-73.983280</td>\n",
              "      <td>40.722350</td>\n",
              "      <td>1.0</td>\n",
              "      <td>12.1</td>\n",
              "    </tr>\n",
              "  </tbody>\n",
              "</table>\n",
              "</div>"
            ],
            "text/plain": [
              "                            key  ... fare_amount\n",
              "0   2011-11-23 14:36:35.0000003  ...         2.5\n",
              "1  2013-09-14 21:40:00.00000016  ...         5.5\n",
              "2   2012-04-30 18:13:19.0000002  ...         6.5\n",
              "3   2010-10-22 15:03:47.0000001  ...         6.5\n",
              "4   2011-02-18 18:08:16.0000002  ...        12.1\n",
              "\n",
              "[5 rows x 8 columns]"
            ]
          },
          "execution_count": 2,
          "metadata": {},
          "output_type": "execute_result"
        }
      ],
      "source": [
        "df = pd.read_csv(\"https://www.dropbox.com/s/glmbcyopi24m2ni/final_project_data.csv?dl=1\")\n",
        "df.head()"
      ]
    },
    {
      "cell_type": "code",
      "execution_count": null,
      "metadata": {
        "colab": {
          "base_uri": "https://localhost:8080/"
        },
        "execution": {
          "iopub.execute_input": "2025-08-09T15:48:24.119754Z",
          "iopub.status.busy": "2025-08-09T15:48:24.118252Z",
          "iopub.status.idle": "2025-08-09T15:48:24.334291Z",
          "shell.execute_reply": "2025-08-09T15:48:24.333042Z",
          "shell.execute_reply.started": "2025-08-09T15:48:24.119697Z"
        },
        "id": "Sd9G8LDV0QzP",
        "outputId": "553d102a-ffed-43e3-b80a-c0c75d775407"
      },
      "outputs": [
        {
          "name": "stdout",
          "output_type": "stream",
          "text": [
            "<class 'pandas.core.frame.DataFrame'>\n",
            "RangeIndex: 615962 entries, 0 to 615961\n",
            "Data columns (total 8 columns):\n",
            " #   Column             Non-Null Count   Dtype  \n",
            "---  ------             --------------   -----  \n",
            " 0   key                615962 non-null  object \n",
            " 1   pickup_datetime    615962 non-null  object \n",
            " 2   pickup_longitude   615962 non-null  float64\n",
            " 3   pickup_latitude    615961 non-null  float64\n",
            " 4   dropoff_longitude  615959 non-null  float64\n",
            " 5   dropoff_latitude   615959 non-null  float64\n",
            " 6   passenger_count    615961 non-null  float64\n",
            " 7   fare_amount        615961 non-null  float64\n",
            "dtypes: float64(6), object(2)\n",
            "memory usage: 37.6+ MB\n"
          ]
        }
      ],
      "source": [
        "df.info()"
      ]
    },
    {
      "cell_type": "markdown",
      "metadata": {
        "id": "SvJA-Ozs17jo"
      },
      "source": [
        "1. Разведочный анализ данных"
      ]
    },
    {
      "cell_type": "code",
      "execution_count": null,
      "metadata": {
        "execution": {
          "iopub.execute_input": "2025-08-09T15:48:24.336429Z",
          "iopub.status.busy": "2025-08-09T15:48:24.335509Z",
          "iopub.status.idle": "2025-08-09T15:49:54.537881Z",
          "shell.execute_reply": "2025-08-09T15:49:54.536514Z",
          "shell.execute_reply.started": "2025-08-09T15:48:24.336385Z"
        },
        "id": "SuyJfbvY0UMP"
      },
      "outputs": [],
      "source": [
        "# Удаление пропусков\n",
        "df = df.dropna()\n",
        "# Удаление столбца, дублирующего данные\n",
        "df = df.drop(['key'], axis=1)\n",
        "# Декомпозируем pickup_datetime\n",
        "df.pickup_datetime = pd.to_datetime(df.pickup_datetime)\n",
        "df['year'] = df.pickup_datetime.dt.year\n",
        "df['month'] = df.pickup_datetime.dt.month\n",
        "df['day'] = df.pickup_datetime.dt.day\n",
        "df['hour'] = df.pickup_datetime.dt.hour + (df.pickup_datetime.dt.minute > 30).astype(int)\n",
        "df.loc[df['hour'] == 24, 'hour'] = 0\n",
        "df = df.drop('pickup_datetime', axis=1)"
      ]
    },
    {
      "cell_type": "code",
      "execution_count": null,
      "metadata": {
        "colab": {
          "base_uri": "https://localhost:8080/",
          "height": 143
        },
        "execution": {
          "iopub.execute_input": "2025-08-09T15:49:54.541216Z",
          "iopub.status.busy": "2025-08-09T15:49:54.540166Z",
          "iopub.status.idle": "2025-08-09T15:49:54.859111Z",
          "shell.execute_reply": "2025-08-09T15:49:54.857871Z",
          "shell.execute_reply.started": "2025-08-09T15:49:54.541170Z"
        },
        "id": "xBof0rL11B1O",
        "outputId": "a50b22ba-424f-4588-a69f-fa0b2b479e1b"
      },
      "outputs": [
        {
          "data": {
            "text/html": [
              "<div>\n",
              "<style scoped>\n",
              "    .dataframe tbody tr th:only-of-type {\n",
              "        vertical-align: middle;\n",
              "    }\n",
              "\n",
              "    .dataframe tbody tr th {\n",
              "        vertical-align: top;\n",
              "    }\n",
              "\n",
              "    .dataframe thead th {\n",
              "        text-align: right;\n",
              "    }\n",
              "</style>\n",
              "<table border=\"1\" class=\"dataframe\">\n",
              "  <thead>\n",
              "    <tr style=\"text-align: right;\">\n",
              "      <th></th>\n",
              "      <th>pickup_longitude</th>\n",
              "      <th>pickup_latitude</th>\n",
              "      <th>dropoff_longitude</th>\n",
              "      <th>dropoff_latitude</th>\n",
              "      <th>passenger_count</th>\n",
              "      <th>fare_amount</th>\n",
              "      <th>year</th>\n",
              "      <th>month</th>\n",
              "      <th>day</th>\n",
              "      <th>hour</th>\n",
              "    </tr>\n",
              "  </thead>\n",
              "  <tbody>\n",
              "    <tr>\n",
              "      <th>mean</th>\n",
              "      <td>-72.528287</td>\n",
              "      <td>39.93256</td>\n",
              "      <td>-72.531908</td>\n",
              "      <td>39.917904</td>\n",
              "      <td>1.685127</td>\n",
              "      <td>11.33218</td>\n",
              "      <td>2011.741072</td>\n",
              "      <td>6.263397</td>\n",
              "      <td>15.70592</td>\n",
              "      <td>13.452856</td>\n",
              "    </tr>\n",
              "    <tr>\n",
              "      <th>min</th>\n",
              "      <td>-1280.547368</td>\n",
              "      <td>-3447.91509</td>\n",
              "      <td>-3328.756240</td>\n",
              "      <td>-3493.651853</td>\n",
              "      <td>0.000000</td>\n",
              "      <td>-45.00000</td>\n",
              "      <td>2009.000000</td>\n",
              "      <td>1.000000</td>\n",
              "      <td>1.00000</td>\n",
              "      <td>0.000000</td>\n",
              "    </tr>\n",
              "    <tr>\n",
              "      <th>max</th>\n",
              "      <td>2512.533050</td>\n",
              "      <td>1629.00420</td>\n",
              "      <td>2058.322398</td>\n",
              "      <td>1640.072227</td>\n",
              "      <td>6.000000</td>\n",
              "      <td>370.00000</td>\n",
              "      <td>2015.000000</td>\n",
              "      <td>12.000000</td>\n",
              "      <td>31.00000</td>\n",
              "      <td>23.000000</td>\n",
              "    </tr>\n",
              "  </tbody>\n",
              "</table>\n",
              "</div>"
            ],
            "text/plain": [
              "      pickup_longitude  pickup_latitude  ...       day       hour\n",
              "mean        -72.528287         39.93256  ...  15.70592  13.452856\n",
              "min       -1280.547368      -3447.91509  ...   1.00000   0.000000\n",
              "max        2512.533050       1629.00420  ...  31.00000  23.000000\n",
              "\n",
              "[3 rows x 10 columns]"
            ]
          },
          "execution_count": 5,
          "metadata": {},
          "output_type": "execute_result"
        }
      ],
      "source": [
        "# Поиск выбросов\n",
        "df.describe().loc[['mean', 'min', 'max'], :]"
      ]
    },
    {
      "cell_type": "code",
      "execution_count": null,
      "metadata": {
        "execution": {
          "iopub.execute_input": "2025-08-09T15:49:54.861681Z",
          "iopub.status.busy": "2025-08-09T15:49:54.860356Z",
          "iopub.status.idle": "2025-08-09T15:49:55.049467Z",
          "shell.execute_reply": "2025-08-09T15:49:55.048200Z",
          "shell.execute_reply.started": "2025-08-09T15:49:54.861624Z"
        },
        "id": "58UqQJXP6FRj"
      },
      "outputs": [],
      "source": [
        "# Выбросы в данных:\n",
        "# pickup_longitude, pickup_latitude, dropoff_longitude, dropoff_latitude: таких отклонений от среднего для координат в одном городе быть не может.\n",
        "# passenger_count: 0 пассажиров.\n",
        "# fare_amount: неположительная плата за проезд.\n",
        "\n",
        "# Удаление выбросов\n",
        "\n",
        "for col in ['pickup_longitude', 'pickup_latitude', 'dropoff_longitude', 'dropoff_latitude']:\n",
        "  mean = df[col].mean()\n",
        "  std = df[col].std()\n",
        "  lower = mean - 3 * std\n",
        "  upper = mean + 3 * std\n",
        "  df = df[(df[col] >= lower) & (df[col] <= upper)]\n",
        "\n",
        "df = df[df.passenger_count > 0]\n",
        "df = df[df.fare_amount > 0]"
      ]
    },
    {
      "cell_type": "code",
      "execution_count": null,
      "metadata": {
        "colab": {
          "base_uri": "https://localhost:8080/",
          "height": 143
        },
        "execution": {
          "iopub.execute_input": "2025-08-09T15:49:55.051425Z",
          "iopub.status.busy": "2025-08-09T15:49:55.050546Z",
          "iopub.status.idle": "2025-08-09T15:49:55.329346Z",
          "shell.execute_reply": "2025-08-09T15:49:55.328214Z",
          "shell.execute_reply.started": "2025-08-09T15:49:55.051391Z"
        },
        "id": "MJXcDsHp9s-5",
        "outputId": "cddcef0e-4e8c-436b-985c-0e6e634449f3"
      },
      "outputs": [
        {
          "data": {
            "text/html": [
              "<div>\n",
              "<style scoped>\n",
              "    .dataframe tbody tr th:only-of-type {\n",
              "        vertical-align: middle;\n",
              "    }\n",
              "\n",
              "    .dataframe tbody tr th {\n",
              "        vertical-align: top;\n",
              "    }\n",
              "\n",
              "    .dataframe thead th {\n",
              "        text-align: right;\n",
              "    }\n",
              "</style>\n",
              "<table border=\"1\" class=\"dataframe\">\n",
              "  <thead>\n",
              "    <tr style=\"text-align: right;\">\n",
              "      <th></th>\n",
              "      <th>pickup_longitude</th>\n",
              "      <th>pickup_latitude</th>\n",
              "      <th>dropoff_longitude</th>\n",
              "      <th>dropoff_latitude</th>\n",
              "      <th>passenger_count</th>\n",
              "      <th>fare_amount</th>\n",
              "      <th>year</th>\n",
              "      <th>month</th>\n",
              "      <th>day</th>\n",
              "      <th>hour</th>\n",
              "    </tr>\n",
              "  </thead>\n",
              "  <tbody>\n",
              "    <tr>\n",
              "      <th>mean</th>\n",
              "      <td>-73.975281</td>\n",
              "      <td>40.750980</td>\n",
              "      <td>-73.974424</td>\n",
              "      <td>40.751283</td>\n",
              "      <td>1.690894</td>\n",
              "      <td>11.323142</td>\n",
              "      <td>2011.739412</td>\n",
              "      <td>6.265634</td>\n",
              "      <td>15.701559</td>\n",
              "      <td>13.454773</td>\n",
              "    </tr>\n",
              "    <tr>\n",
              "      <th>min</th>\n",
              "      <td>-77.253142</td>\n",
              "      <td>37.828900</td>\n",
              "      <td>-81.006287</td>\n",
              "      <td>38.464417</td>\n",
              "      <td>1.000000</td>\n",
              "      <td>0.010000</td>\n",
              "      <td>2009.000000</td>\n",
              "      <td>1.000000</td>\n",
              "      <td>1.000000</td>\n",
              "      <td>0.000000</td>\n",
              "    </tr>\n",
              "    <tr>\n",
              "      <th>max</th>\n",
              "      <td>-68.016667</td>\n",
              "      <td>43.259652</td>\n",
              "      <td>-67.750000</td>\n",
              "      <td>43.920694</td>\n",
              "      <td>6.000000</td>\n",
              "      <td>370.000000</td>\n",
              "      <td>2015.000000</td>\n",
              "      <td>12.000000</td>\n",
              "      <td>31.000000</td>\n",
              "      <td>23.000000</td>\n",
              "    </tr>\n",
              "  </tbody>\n",
              "</table>\n",
              "</div>"
            ],
            "text/plain": [
              "      pickup_longitude  pickup_latitude  ...        day       hour\n",
              "mean        -73.975281        40.750980  ...  15.701559  13.454773\n",
              "min         -77.253142        37.828900  ...   1.000000   0.000000\n",
              "max         -68.016667        43.259652  ...  31.000000  23.000000\n",
              "\n",
              "[3 rows x 10 columns]"
            ]
          },
          "execution_count": 7,
          "metadata": {},
          "output_type": "execute_result"
        }
      ],
      "source": [
        "df.describe().loc[['mean', 'min', 'max'], :]"
      ]
    },
    {
      "cell_type": "code",
      "execution_count": null,
      "metadata": {
        "colab": {
          "base_uri": "https://localhost:8080/"
        },
        "execution": {
          "iopub.execute_input": "2025-08-09T15:49:55.331923Z",
          "iopub.status.busy": "2025-08-09T15:49:55.330601Z",
          "iopub.status.idle": "2025-08-09T15:49:55.346781Z",
          "shell.execute_reply": "2025-08-09T15:49:55.345793Z",
          "shell.execute_reply.started": "2025-08-09T15:49:55.331865Z"
        },
        "id": "ZIZj1n-RA4v-",
        "outputId": "a54dbcf8-7949-4030-f59d-f52eb43b4f79"
      },
      "outputs": [
        {
          "data": {
            "text/plain": [
              "(601218, 10)"
            ]
          },
          "execution_count": 8,
          "metadata": {},
          "output_type": "execute_result"
        }
      ],
      "source": [
        "df.shape"
      ]
    },
    {
      "cell_type": "code",
      "execution_count": null,
      "metadata": {
        "colab": {
          "base_uri": "https://localhost:8080/",
          "height": 445
        },
        "execution": {
          "iopub.execute_input": "2025-08-09T15:49:55.348510Z",
          "iopub.status.busy": "2025-08-09T15:49:55.347796Z",
          "iopub.status.idle": "2025-08-09T15:49:55.778467Z",
          "shell.execute_reply": "2025-08-09T15:49:55.777189Z",
          "shell.execute_reply.started": "2025-08-09T15:49:55.348466Z"
        },
        "id": "m8by6porBALL",
        "outputId": "009c6cd6-e253-42a7-ff38-9bfb37532cec"
      },
      "outputs": [
        {
          "data": {
            "image/png": "[encoded data removed]",
            "text/plain": [
              "<Figure size 700x500 with 1 Axes>"
            ]
          },
          "metadata": {},
          "output_type": "display_data"
        }
      ],
      "source": [
        "# Оценим визуально распределение целевой переменной\n",
        "plt.figure(figsize=(7, 5))\n",
        "plt.hist(df.fare_amount, bins=100)\n",
        "plt.show()"
      ]
    },
    {
      "cell_type": "code",
      "execution_count": null,
      "metadata": {
        "execution": {
          "iopub.execute_input": "2025-08-09T15:49:55.781284Z",
          "iopub.status.busy": "2025-08-09T15:49:55.779672Z",
          "iopub.status.idle": "2025-08-09T15:49:55.810207Z",
          "shell.execute_reply": "2025-08-09T15:49:55.809129Z",
          "shell.execute_reply.started": "2025-08-09T15:49:55.781222Z"
        },
        "id": "EOPNOQ01BoEd"
      },
      "outputs": [],
      "source": [
        "# Прологарифмируем целевую переменную, чтобы сделать распределение ближе к нормальному\n",
        "# Для предсказаний модели будем выполнять обратную операцию\n",
        "df.fare_amount =  np.log1p(df.fare_amount)"
      ]
    },
    {
      "cell_type": "code",
      "execution_count": null,
      "metadata": {
        "execution": {
          "iopub.execute_input": "2025-08-09T15:49:55.814652Z",
          "iopub.status.busy": "2025-08-09T15:49:55.813887Z",
          "iopub.status.idle": "2025-08-09T15:49:56.078140Z",
          "shell.execute_reply": "2025-08-09T15:49:56.076823Z",
          "shell.execute_reply.started": "2025-08-09T15:49:55.814604Z"
        },
        "id": "Qfip5vVLCtKm"
      },
      "outputs": [],
      "source": [
        "# Закодируем признаки, связанные с временем поездки\n",
        "# Их можно рассматривать как категориальные\n",
        "season_dct = {\n",
        "    \"winter\": [12, 1, 2],\n",
        "    \"spring\": [3, 4, 5],\n",
        "    \"summer\": [6, 7, 8],\n",
        "    \"autumn\": [9, 10, 11],\n",
        "}\n",
        "\n",
        "month_dct = {\n",
        "    \"start_month\": list(range(1, 11)),\n",
        "    \"middle_month\": list(range(11, 21)),\n",
        "    \"end_month\": list(range(21, 32)),\n",
        "}\n",
        "\n",
        "time_of_day_dct = {\n",
        "    \"night\": [23, 0, 1, 2, 3, 4, 5],\n",
        "    \"morning\": list(range(6, 12)),\n",
        "    \"day\": list(range(12, 17)),\n",
        "    \"evening\": list(range(17, 23)),\n",
        "}\n",
        "\n",
        "lst_of_dct = [(season_dct, 'month'), (month_dct, 'day'), (time_of_day_dct, 'hour')]\n",
        "\n",
        "for dct, feature in lst_of_dct:\n",
        "  for key in dct:\n",
        "    df[key] = 0\n",
        "    df.loc[df.loc[:, feature].isin(dct[key]), key] = 1\n",
        "df = df.drop(['month', 'hour'], axis=1)"
      ]
    },
    {
      "cell_type": "code",
      "execution_count": null,
      "metadata": {
        "colab": {
          "base_uri": "https://localhost:8080/",
          "height": 226
        },
        "execution": {
          "iopub.execute_input": "2025-08-09T15:49:56.079976Z",
          "iopub.status.busy": "2025-08-09T15:49:56.079311Z",
          "iopub.status.idle": "2025-08-09T15:49:56.133324Z",
          "shell.execute_reply": "2025-08-09T15:49:56.131995Z",
          "shell.execute_reply.started": "2025-08-09T15:49:56.079920Z"
        },
        "id": "tqawqziWDtnC",
        "outputId": "6ad2eb2e-f385-434c-b77b-b49f79ab3f7e"
      },
      "outputs": [
        {
          "data": {
            "text/html": [
              "<div>\n",
              "<style scoped>\n",
              "    .dataframe tbody tr th:only-of-type {\n",
              "        vertical-align: middle;\n",
              "    }\n",
              "\n",
              "    .dataframe tbody tr th {\n",
              "        vertical-align: top;\n",
              "    }\n",
              "\n",
              "    .dataframe thead th {\n",
              "        text-align: right;\n",
              "    }\n",
              "</style>\n",
              "<table border=\"1\" class=\"dataframe\">\n",
              "  <thead>\n",
              "    <tr style=\"text-align: right;\">\n",
              "      <th></th>\n",
              "      <th>pickup_longitude</th>\n",
              "      <th>pickup_latitude</th>\n",
              "      <th>dropoff_longitude</th>\n",
              "      <th>dropoff_latitude</th>\n",
              "      <th>passenger_count</th>\n",
              "      <th>fare_amount</th>\n",
              "      <th>year</th>\n",
              "      <th>day</th>\n",
              "      <th>winter</th>\n",
              "      <th>spring</th>\n",
              "      <th>summer</th>\n",
              "      <th>autumn</th>\n",
              "      <th>start_month</th>\n",
              "      <th>middle_month</th>\n",
              "      <th>end_month</th>\n",
              "      <th>night</th>\n",
              "      <th>morning</th>\n",
              "      <th>evening</th>\n",
              "    </tr>\n",
              "  </thead>\n",
              "  <tbody>\n",
              "    <tr>\n",
              "      <th>0</th>\n",
              "      <td>-73.959075</td>\n",
              "      <td>40.783316</td>\n",
              "      <td>-73.959087</td>\n",
              "      <td>40.783345</td>\n",
              "      <td>1.0</td>\n",
              "      <td>1.252763</td>\n",
              "      <td>2011</td>\n",
              "      <td>1</td>\n",
              "      <td>0</td>\n",
              "      <td>0</td>\n",
              "      <td>0</td>\n",
              "      <td>1</td>\n",
              "      <td>0</td>\n",
              "      <td>0</td>\n",
              "      <td>1</td>\n",
              "      <td>0</td>\n",
              "      <td>0</td>\n",
              "      <td>0</td>\n",
              "    </tr>\n",
              "    <tr>\n",
              "      <th>1</th>\n",
              "      <td>-73.931612</td>\n",
              "      <td>40.771060</td>\n",
              "      <td>-73.929097</td>\n",
              "      <td>40.760542</td>\n",
              "      <td>1.0</td>\n",
              "      <td>1.871802</td>\n",
              "      <td>2013</td>\n",
              "      <td>0</td>\n",
              "      <td>0</td>\n",
              "      <td>0</td>\n",
              "      <td>0</td>\n",
              "      <td>1</td>\n",
              "      <td>0</td>\n",
              "      <td>1</td>\n",
              "      <td>0</td>\n",
              "      <td>0</td>\n",
              "      <td>0</td>\n",
              "      <td>1</td>\n",
              "    </tr>\n",
              "    <tr>\n",
              "      <th>2</th>\n",
              "      <td>-73.997929</td>\n",
              "      <td>40.740983</td>\n",
              "      <td>-74.007197</td>\n",
              "      <td>40.727725</td>\n",
              "      <td>2.0</td>\n",
              "      <td>2.014903</td>\n",
              "      <td>2012</td>\n",
              "      <td>0</td>\n",
              "      <td>0</td>\n",
              "      <td>1</td>\n",
              "      <td>0</td>\n",
              "      <td>0</td>\n",
              "      <td>0</td>\n",
              "      <td>0</td>\n",
              "      <td>1</td>\n",
              "      <td>0</td>\n",
              "      <td>0</td>\n",
              "      <td>1</td>\n",
              "    </tr>\n",
              "    <tr>\n",
              "      <th>3</th>\n",
              "      <td>-73.980608</td>\n",
              "      <td>40.742449</td>\n",
              "      <td>-73.985609</td>\n",
              "      <td>40.755807</td>\n",
              "      <td>1.0</td>\n",
              "      <td>2.014903</td>\n",
              "      <td>2010</td>\n",
              "      <td>1</td>\n",
              "      <td>0</td>\n",
              "      <td>0</td>\n",
              "      <td>0</td>\n",
              "      <td>1</td>\n",
              "      <td>0</td>\n",
              "      <td>0</td>\n",
              "      <td>1</td>\n",
              "      <td>0</td>\n",
              "      <td>0</td>\n",
              "      <td>0</td>\n",
              "    </tr>\n",
              "    <tr>\n",
              "      <th>4</th>\n",
              "      <td>-74.008884</td>\n",
              "      <td>40.720314</td>\n",
              "      <td>-73.983280</td>\n",
              "      <td>40.722350</td>\n",
              "      <td>1.0</td>\n",
              "      <td>2.572612</td>\n",
              "      <td>2011</td>\n",
              "      <td>0</td>\n",
              "      <td>1</td>\n",
              "      <td>0</td>\n",
              "      <td>0</td>\n",
              "      <td>0</td>\n",
              "      <td>0</td>\n",
              "      <td>1</td>\n",
              "      <td>0</td>\n",
              "      <td>0</td>\n",
              "      <td>0</td>\n",
              "      <td>1</td>\n",
              "    </tr>\n",
              "  </tbody>\n",
              "</table>\n",
              "</div>"
            ],
            "text/plain": [
              "   pickup_longitude  pickup_latitude  ...  morning  evening\n",
              "0        -73.959075        40.783316  ...        0        0\n",
              "1        -73.931612        40.771060  ...        0        1\n",
              "2        -73.997929        40.740983  ...        0        1\n",
              "3        -73.980608        40.742449  ...        0        0\n",
              "4        -74.008884        40.720314  ...        0        1\n",
              "\n",
              "[5 rows x 18 columns]"
            ]
          },
          "execution_count": 12,
          "metadata": {},
          "output_type": "execute_result"
        }
      ],
      "source": [
        "df.head()"
      ]
    },
    {
      "cell_type": "markdown",
      "metadata": {
        "id": "7qb9WKa4FGFX"
      },
      "source": [
        "2. Построение базовой модели"
      ]
    },
    {
      "cell_type": "code",
      "execution_count": null,
      "metadata": {
        "execution": {
          "iopub.execute_input": "2025-08-09T15:49:56.135977Z",
          "iopub.status.busy": "2025-08-09T15:49:56.134699Z",
          "iopub.status.idle": "2025-08-09T15:49:56.564871Z",
          "shell.execute_reply": "2025-08-09T15:49:56.563719Z",
          "shell.execute_reply.started": "2025-08-09T15:49:56.135921Z"
        },
        "id": "V8I_6BmiFA6P",
        "tags": []
      },
      "outputs": [],
      "source": [
        "from sklearn.pipeline import Pipeline\n",
        "from sklearn.preprocessing import PolynomialFeatures\n",
        "from sklearn.preprocessing import StandardScaler\n",
        "from sklearn.feature_selection import SelectFromModel\n",
        "from sklearn.linear_model import Ridge\n",
        "from sklearn.tree import DecisionTreeRegressor\n",
        "\n",
        "pipeline = Pipeline([\n",
        "    ('features', PolynomialFeatures(degree=2)),\n",
        "    ('scaler', StandardScaler()),\n",
        "    ('reduction', SelectFromModel(Ridge())),\n",
        "    ('model', DecisionTreeRegressor(random_state=42))\n",
        "])"
      ]
    },
    {
      "cell_type": "code",
      "execution_count": null,
      "metadata": {
        "colab": {
          "base_uri": "https://localhost:8080/"
        },
        "execution": {
          "iopub.execute_input": "2025-08-09T15:49:56.567702Z",
          "iopub.status.busy": "2025-08-09T15:49:56.566273Z",
          "iopub.status.idle": "2025-08-09T15:51:13.304266Z",
          "shell.execute_reply": "2025-08-09T15:51:13.303091Z",
          "shell.execute_reply.started": "2025-08-09T15:49:56.567648Z"
        },
        "id": "33wfgQs4G55V",
        "outputId": "e5740b54-28d8-49b6-b84d-b26722923b8c",
        "tags": []
      },
      "outputs": [
        {
          "name": "stdout",
          "output_type": "stream",
          "text": [
            "0.74\n"
          ]
        }
      ],
      "source": [
        "from sklearn.model_selection import train_test_split\n",
        "from sklearn.model_selection import GridSearchCV\n",
        "from sklearn.metrics import r2_score\n",
        "\n",
        "def custom_r2_score(model, X, y):\n",
        "  y_pred = model.predict(X)\n",
        "  return r2_score(np.expm1(y), np.expm1(y_pred))\n",
        "\n",
        "def cur_r2_score(X, y):\n",
        "\n",
        "  X_train, X_test, y_train, y_test = train_test_split(X, y, test_size=0.25, random_state=42)\n",
        "\n",
        "  params = {'model__max_depth': range(3, 11)}\n",
        "  grid = GridSearchCV(pipeline, param_grid=params, scoring=custom_r2_score, cv=3, n_jobs=-1)\n",
        "  grid.fit(X_train, y_train)\n",
        "\n",
        "  tree = grid.best_estimator_\n",
        "  return round(r2_score(np.expm1(y_test), np.expm1(tree.predict(X_test))), 2)\n",
        "\n",
        "y = df['fare_amount']\n",
        "X = df.drop('fare_amount', axis=1)\n",
        "\n",
        "print(cur_r2_score(X, y))"
      ]
    },
    {
      "cell_type": "markdown",
      "metadata": {
        "id": "oCiSSJ7TdpOp"
      },
      "source": [
        "3. Улучшение факторов, не связанных с конкретной моделью для предсказания целевой переменной"
      ]
    },
    {
      "cell_type": "markdown",
      "metadata": {
        "id": "3FVGdf1XrLkm"
      },
      "source": [
        "3.1 Добавление новых признаков"
      ]
    },
    {
      "cell_type": "code",
      "execution_count": null,
      "metadata": {
        "colab": {
          "base_uri": "https://localhost:8080/",
          "height": 226
        },
        "execution": {
          "iopub.execute_input": "2025-08-09T15:51:13.307824Z",
          "iopub.status.busy": "2025-08-09T15:51:13.305766Z",
          "iopub.status.idle": "2025-08-09T15:51:13.378196Z",
          "shell.execute_reply": "2025-08-09T15:51:13.377126Z",
          "shell.execute_reply.started": "2025-08-09T15:51:13.307760Z"
        },
        "id": "iO0lTF-wdoMG",
        "outputId": "c942ad2e-5918-4cf4-d0fa-6ef0753a8408",
        "tags": []
      },
      "outputs": [
        {
          "data": {
            "text/html": [
              "<div>\n",
              "<style scoped>\n",
              "    .dataframe tbody tr th:only-of-type {\n",
              "        vertical-align: middle;\n",
              "    }\n",
              "\n",
              "    .dataframe tbody tr th {\n",
              "        vertical-align: top;\n",
              "    }\n",
              "\n",
              "    .dataframe thead th {\n",
              "        text-align: right;\n",
              "    }\n",
              "</style>\n",
              "<table border=\"1\" class=\"dataframe\">\n",
              "  <thead>\n",
              "    <tr style=\"text-align: right;\">\n",
              "      <th></th>\n",
              "      <th>pickup_longitude</th>\n",
              "      <th>pickup_latitude</th>\n",
              "      <th>dropoff_longitude</th>\n",
              "      <th>dropoff_latitude</th>\n",
              "      <th>passenger_count</th>\n",
              "      <th>year</th>\n",
              "      <th>day</th>\n",
              "      <th>winter</th>\n",
              "      <th>spring</th>\n",
              "      <th>summer</th>\n",
              "      <th>autumn</th>\n",
              "      <th>start_month</th>\n",
              "      <th>middle_month</th>\n",
              "      <th>end_month</th>\n",
              "      <th>night</th>\n",
              "      <th>morning</th>\n",
              "      <th>evening</th>\n",
              "      <th>manhattan_distance</th>\n",
              "    </tr>\n",
              "  </thead>\n",
              "  <tbody>\n",
              "    <tr>\n",
              "      <th>0</th>\n",
              "      <td>-73.959075</td>\n",
              "      <td>40.783316</td>\n",
              "      <td>-73.959087</td>\n",
              "      <td>40.783345</td>\n",
              "      <td>1.0</td>\n",
              "      <td>2011</td>\n",
              "      <td>1</td>\n",
              "      <td>0</td>\n",
              "      <td>0</td>\n",
              "      <td>0</td>\n",
              "      <td>1</td>\n",
              "      <td>0</td>\n",
              "      <td>0</td>\n",
              "      <td>1</td>\n",
              "      <td>0</td>\n",
              "      <td>0</td>\n",
              "      <td>0</td>\n",
              "      <td>0.000041</td>\n",
              "    </tr>\n",
              "    <tr>\n",
              "      <th>1</th>\n",
              "      <td>-73.931612</td>\n",
              "      <td>40.771060</td>\n",
              "      <td>-73.929097</td>\n",
              "      <td>40.760542</td>\n",
              "      <td>1.0</td>\n",
              "      <td>2013</td>\n",
              "      <td>0</td>\n",
              "      <td>0</td>\n",
              "      <td>0</td>\n",
              "      <td>0</td>\n",
              "      <td>1</td>\n",
              "      <td>0</td>\n",
              "      <td>1</td>\n",
              "      <td>0</td>\n",
              "      <td>0</td>\n",
              "      <td>0</td>\n",
              "      <td>1</td>\n",
              "      <td>0.013033</td>\n",
              "    </tr>\n",
              "    <tr>\n",
              "      <th>2</th>\n",
              "      <td>-73.997929</td>\n",
              "      <td>40.740983</td>\n",
              "      <td>-74.007197</td>\n",
              "      <td>40.727725</td>\n",
              "      <td>2.0</td>\n",
              "      <td>2012</td>\n",
              "      <td>0</td>\n",
              "      <td>0</td>\n",
              "      <td>1</td>\n",
              "      <td>0</td>\n",
              "      <td>0</td>\n",
              "      <td>0</td>\n",
              "      <td>0</td>\n",
              "      <td>1</td>\n",
              "      <td>0</td>\n",
              "      <td>0</td>\n",
              "      <td>1</td>\n",
              "      <td>0.022526</td>\n",
              "    </tr>\n",
              "    <tr>\n",
              "      <th>3</th>\n",
              "      <td>-73.980608</td>\n",
              "      <td>40.742449</td>\n",
              "      <td>-73.985609</td>\n",
              "      <td>40.755807</td>\n",
              "      <td>1.0</td>\n",
              "      <td>2010</td>\n",
              "      <td>1</td>\n",
              "      <td>0</td>\n",
              "      <td>0</td>\n",
              "      <td>0</td>\n",
              "      <td>1</td>\n",
              "      <td>0</td>\n",
              "      <td>0</td>\n",
              "      <td>1</td>\n",
              "      <td>0</td>\n",
              "      <td>0</td>\n",
              "      <td>0</td>\n",
              "      <td>0.018359</td>\n",
              "    </tr>\n",
              "    <tr>\n",
              "      <th>4</th>\n",
              "      <td>-74.008884</td>\n",
              "      <td>40.720314</td>\n",
              "      <td>-73.983280</td>\n",
              "      <td>40.722350</td>\n",
              "      <td>1.0</td>\n",
              "      <td>2011</td>\n",
              "      <td>0</td>\n",
              "      <td>1</td>\n",
              "      <td>0</td>\n",
              "      <td>0</td>\n",
              "      <td>0</td>\n",
              "      <td>0</td>\n",
              "      <td>1</td>\n",
              "      <td>0</td>\n",
              "      <td>0</td>\n",
              "      <td>0</td>\n",
              "      <td>1</td>\n",
              "      <td>0.027640</td>\n",
              "    </tr>\n",
              "  </tbody>\n",
              "</table>\n",
              "</div>"
            ],
            "text/plain": [
              "   pickup_longitude  pickup_latitude  ...  evening  manhattan_distance\n",
              "0        -73.959075        40.783316  ...        0            0.000041\n",
              "1        -73.931612        40.771060  ...        1            0.013033\n",
              "2        -73.997929        40.740983  ...        1            0.022526\n",
              "3        -73.980608        40.742449  ...        0            0.018359\n",
              "4        -74.008884        40.720314  ...        1            0.027640\n",
              "\n",
              "[5 rows x 18 columns]"
            ]
          },
          "execution_count": 15,
          "metadata": {},
          "output_type": "execute_result"
        }
      ],
      "source": [
        "# Добавим новый признак: Манхэттенское расстояние между местом посадки и высадки\n",
        "X['manhattan_distance'] = np.abs(X['dropoff_latitude'] - X['pickup_latitude']) + np.abs(X['dropoff_longitude'] - X['pickup_longitude'])\n",
        "X.head()"
      ]
    },
    {
      "cell_type": "code",
      "execution_count": null,
      "metadata": {
        "colab": {
          "base_uri": "https://localhost:8080/"
        },
        "execution": {
          "iopub.execute_input": "2025-08-09T15:51:13.380841Z",
          "iopub.status.busy": "2025-08-09T15:51:13.379596Z",
          "iopub.status.idle": "2025-08-09T15:52:35.051419Z",
          "shell.execute_reply": "2025-08-09T15:52:35.049979Z",
          "shell.execute_reply.started": "2025-08-09T15:51:13.380788Z"
        },
        "id": "X7x-xlAW0iVi",
        "outputId": "0fdd11ae-dd00-4955-fce6-5236872b9a99",
        "tags": []
      },
      "outputs": [
        {
          "name": "stdout",
          "output_type": "stream",
          "text": [
            "0.8\n"
          ]
        }
      ],
      "source": [
        "print(cur_r2_score(X, y))"
      ]
    },
    {
      "cell_type": "code",
      "execution_count": null,
      "metadata": {
        "colab": {
          "base_uri": "https://localhost:8080/"
        },
        "execution": {
          "iopub.execute_input": "2025-08-09T15:52:35.053761Z",
          "iopub.status.busy": "2025-08-09T15:52:35.053003Z",
          "iopub.status.idle": "2025-08-09T15:53:54.724574Z",
          "shell.execute_reply": "2025-08-09T15:53:54.723404Z",
          "shell.execute_reply.started": "2025-08-09T15:52:35.053713Z"
        },
        "id": "Yfw92r0n2i9n",
        "outputId": "bbb3f4f6-773d-427c-b0aa-1ba04b124637",
        "tags": []
      },
      "outputs": [
        {
          "name": "stdout",
          "output_type": "stream",
          "text": [
            "0.8\n"
          ]
        }
      ],
      "source": [
        "# Альтернативный вариант: Евклидово расстояние\n",
        "X = X.drop('manhattan_distance', axis=1)\n",
        "X['euclidian_distance'] = ((X['dropoff_latitude'] - X['pickup_latitude'])**2 + (X['dropoff_longitude'] - X['pickup_longitude'])**2)**0.5\n",
        "print(cur_r2_score(X, y))"
      ]
    },
    {
      "cell_type": "markdown",
      "metadata": {
        "id": "2ZKt0gvK4aJ0"
      },
      "source": [
        "Вывод: добавление любого из признаков одинаково повышает качество модели, оставим Евклидово расстояние."
      ]
    },
    {
      "cell_type": "markdown",
      "metadata": {
        "id": "_5Fk5emr31Xy"
      },
      "source": [
        "3.2 Изменение модели для отбора признаков"
      ]
    },
    {
      "cell_type": "code",
      "execution_count": null,
      "metadata": {
        "colab": {
          "base_uri": "https://localhost:8080/"
        },
        "execution": {
          "iopub.execute_input": "2025-08-09T15:53:54.728019Z",
          "iopub.status.busy": "2025-08-09T15:53:54.725874Z",
          "iopub.status.idle": "2025-08-09T15:53:54.743397Z",
          "shell.execute_reply": "2025-08-09T15:53:54.742163Z",
          "shell.execute_reply.started": "2025-08-09T15:53:54.727947Z"
        },
        "id": "N5VcAvxH4BHR",
        "outputId": "984e558d-ca9d-4328-b41f-b6e50e6c0867"
      },
      "outputs": [
        {
          "data": {
            "text/plain": [
              "\"\\nfrom sklearn.linear_model import Lasso\\n\\npipeline = Pipeline([\\n    ('features', PolynomialFeatures(degree=2)),\\n    ('scaler', StandardScaler()),\\n    ('reduction', SelectFromModel(estimator=Lasso(max_iter=10000), threshold='median')),\\n    ('model', DecisionTreeRegressor(random_state=42))\\n])\\n\\nprint(cur_r2_score(X, y))\\n\""
            ]
          },
          "execution_count": 18,
          "metadata": {},
          "output_type": "execute_result"
        }
      ],
      "source": [
        "\"\"\"\n",
        "from sklearn.linear_model import Lasso\n",
        "\n",
        "pipeline = Pipeline([\n",
        "    ('features', PolynomialFeatures(degree=2)),\n",
        "    ('scaler', StandardScaler()),\n",
        "    ('reduction', SelectFromModel(estimator=Lasso(max_iter=10000), threshold='median')),\n",
        "    ('model', DecisionTreeRegressor(random_state=42))\n",
        "])\n",
        "\n",
        "print(cur_r2_score(X, y))\n",
        "\"\"\""
      ]
    },
    {
      "cell_type": "markdown",
      "metadata": {
        "id": "2TwZiIYaVKBV"
      },
      "source": [
        "Вывод: изменений в качестве по сравнению с Ridge нет, время обучения модели значительно увеличивается."
      ]
    },
    {
      "cell_type": "markdown",
      "metadata": {
        "id": "xfSRHVUvqjxT"
      },
      "source": [
        "3.3 Изменение порядка полиномиальных признаков"
      ]
    },
    {
      "cell_type": "code",
      "execution_count": null,
      "metadata": {
        "execution": {
          "iopub.execute_input": "2025-08-09T15:53:54.745751Z",
          "iopub.status.busy": "2025-08-09T15:53:54.744898Z",
          "iopub.status.idle": "2025-08-09T15:53:54.776130Z",
          "shell.execute_reply": "2025-08-09T15:53:54.775013Z",
          "shell.execute_reply.started": "2025-08-09T15:53:54.745705Z"
        },
        "id": "lJK-6aK-2Bw-",
        "outputId": "b28b7500-bc69-4751-93ff-4e9c039546dc"
      },
      "outputs": [
        {
          "data": {
            "text/plain": [
              "\"\\n# Попробуем увеличить порядок полиномиальных признаков до 3-го\\npipeline = Pipeline([\\n    ('features', PolynomialFeatures(degree=3)),\\n    ('scaler', StandardScaler()),\\n    ('reduction', SelectFromModel(Ridge())),\\n    ('model', DecisionTreeRegressor(random_state=42))\\n])\\n\\nprint(cur_r2_score(X, y))\\n\""
            ]
          },
          "execution_count": 19,
          "metadata": {},
          "output_type": "execute_result"
        }
      ],
      "source": [
        "\"\"\"\n",
        "# Попробуем увеличить порядок полиномиальных признаков до 3-го\n",
        "pipeline = Pipeline([\n",
        "    ('features', PolynomialFeatures(degree=3)),\n",
        "    ('scaler', StandardScaler()),\n",
        "    ('reduction', SelectFromModel(Ridge())),\n",
        "    ('model', DecisionTreeRegressor(random_state=42))\n",
        "])\n",
        "\n",
        "print(cur_r2_score(X, y))\n",
        "\"\"\""
      ]
    },
    {
      "cell_type": "markdown",
      "metadata": {
        "id": "3jHrYpidkQPl"
      },
      "source": [
        "Вывод: время обучения модели значительно увеличивается, используем данный способ для повышения качества модели в последнюю очередь."
      ]
    },
    {
      "cell_type": "markdown",
      "metadata": {
        "id": "FmXID-leX2x0"
      },
      "source": [
        "4. Использование LightGBM для предсказания целевой переменной"
      ]
    },
    {
      "cell_type": "markdown",
      "metadata": {
        "id": "5s6s2sdYYaiO"
      },
      "source": [
        "4.1 LightGBM c одним подобранным гиперпараметром"
      ]
    },
    {
      "cell_type": "code",
      "execution_count": null,
      "metadata": {
        "colab": {
          "base_uri": "https://localhost:8080/"
        },
        "execution": {
          "iopub.execute_input": "2025-08-09T16:23:42.953034Z",
          "iopub.status.busy": "2025-08-09T16:23:42.951456Z",
          "iopub.status.idle": "2025-08-09T16:25:08.355387Z",
          "shell.execute_reply": "2025-08-09T16:25:08.354096Z",
          "shell.execute_reply.started": "2025-08-09T16:23:42.952985Z"
        },
        "id": "GhSdmMbkYI3P",
        "outputId": "285a4c78-9172-4078-8c0b-fd199e1222f3",
        "tags": []
      },
      "outputs": [
        {
          "data": {
            "text/plain": [
              "0.83"
            ]
          },
          "execution_count": 29,
          "metadata": {},
          "output_type": "execute_result"
        }
      ],
      "source": [
        "from lightgbm import LGBMRegressor\n",
        "\n",
        "X_train, X_test, y_train, y_test = train_test_split(X, y, test_size=0.25, random_state=42)\n",
        "\n",
        "pipeline = Pipeline([\n",
        "    ('features', PolynomialFeatures(degree=2)),\n",
        "    ('scaler', StandardScaler()),\n",
        "    ('reduction', SelectFromModel(Ridge())),\n",
        "    ('model', LGBMRegressor(random_state=42, device='gpu', verbose=-1))\n",
        "])\n",
        "\n",
        "param_grid = {\n",
        "    'model__max_depth': range(3, 11)\n",
        "}\n",
        "\n",
        "grid = GridSearchCV(\n",
        "    estimator=pipeline,\n",
        "    param_grid=param_grid,\n",
        "    scoring=custom_r2_score,\n",
        "    cv=3,\n",
        "    n_jobs=3\n",
        ")\n",
        "\n",
        "grid.fit(X_train, y_train)\n",
        "model = grid.best_estimator_\n",
        "\n",
        "round(r2_score(np.expm1(y_test), np.expm1(model.predict(X_test))), 2)"
      ]
    },
    {
      "cell_type": "markdown",
      "metadata": {
        "id": "mRar3VFKn7g-"
      },
      "source": [
        "LightGBM c одним подобранным гиперпараметром показал качество выше, чем решающее дерево. Подберем и другие гиперпараметры. Запустим процесс обучения в Yandex DataSphere."
      ]
    },
    {
      "cell_type": "markdown",
      "metadata": {
        "id": "tSPkblMDbTcx"
      },
      "source": [
        "4.2 Подбор гиперпараметров для LightGBM"
      ]
    },
    {
      "cell_type": "code",
      "execution_count": null,
      "metadata": {
        "execution": {
          "iopub.execute_input": "2025-08-09T16:40:49.387292Z",
          "iopub.status.busy": "2025-08-09T16:40:49.386423Z",
          "iopub.status.idle": "2025-08-09T16:54:45.595677Z",
          "shell.execute_reply": "2025-08-09T16:54:45.594361Z",
          "shell.execute_reply.started": "2025-08-09T16:40:49.387225Z"
        },
        "id": "MCZ71gD2l0re",
        "tags": [],
        "outputId": "d733d005-d0e4-40f6-c65d-0deffb66ace9"
      },
      "outputs": [
        {
          "data": {
            "text/plain": [
              "0.83"
            ]
          },
          "execution_count": 31,
          "metadata": {},
          "output_type": "execute_result"
        }
      ],
      "source": [
        "pipeline = Pipeline([\n",
        "    ('features', PolynomialFeatures(degree=2)),\n",
        "    ('scaler', StandardScaler()),\n",
        "    ('reduction', SelectFromModel(Ridge())),\n",
        "    ('model', LGBMRegressor(random_state=42, device='gpu', verbose=-1))\n",
        "])\n",
        "\n",
        "param_grid = {\n",
        "    # Гиперпараметры LightGBM\n",
        "    'model__n_estimators': [100, 300, 500],\n",
        "    'model__learning_rate': [0.01, 0.1],\n",
        "    'model__max_depth': [3, 9, 13],\n",
        "\n",
        "    # Гиперпараметры SelectFromModel\n",
        "    'reduction__estimator__alpha': [0.1, 1, 10.0]\n",
        "}\n",
        "\n",
        "grid = GridSearchCV(\n",
        "    estimator=pipeline,\n",
        "    param_grid=param_grid,\n",
        "    scoring=custom_r2_score,\n",
        "    cv=3,\n",
        "    n_jobs=3\n",
        ")\n",
        "\n",
        "grid.fit(X_train, y_train)\n",
        "model = grid.best_estimator_\n",
        "\n",
        "round(r2_score(np.expm1(y_test), np.expm1(model.predict(X_test))), 2)"
      ]
    },
    {
      "cell_type": "markdown",
      "metadata": {
        "id": "uIn5oI6vbTcy"
      },
      "source": [
        "4.3 Обучение итоговой модели с подобранными гиперпараметрами. Увеличим степень полиномиальных признаков."
      ]
    },
    {
      "cell_type": "code",
      "execution_count": null,
      "metadata": {
        "execution": {
          "iopub.execute_input": "2025-08-09T17:13:06.852436Z",
          "iopub.status.busy": "2025-08-09T17:13:06.851224Z",
          "iopub.status.idle": "2025-08-09T17:14:16.336215Z",
          "shell.execute_reply": "2025-08-09T17:14:16.335029Z",
          "shell.execute_reply.started": "2025-08-09T17:13:06.852400Z"
        },
        "tags": [],
        "id": "JgvPAA6obTcy",
        "outputId": "74ae452e-62a9-4a0a-a91c-8a8a11c6d331"
      },
      "outputs": [
        {
          "data": {
            "text/plain": [
              "0.84"
            ]
          },
          "execution_count": 43,
          "metadata": {},
          "output_type": "execute_result"
        }
      ],
      "source": [
        "params = {'model__learning_rate': 0.1,\n",
        "         'model__max_depth': 10,\n",
        "         'model__n_estimators': 500,\n",
        "         'reduction__estimator__alpha': 0.1}\n",
        "\n",
        "model = Pipeline([\n",
        "    ('features', PolynomialFeatures(degree=3)),\n",
        "    ('scaler', StandardScaler()),\n",
        "    ('reduction', SelectFromModel(Ridge())),\n",
        "    ('model', LGBMRegressor(random_state=42, device='gpu', verbose=-1))\n",
        "])\n",
        "\n",
        "model.set_params(**params)\n",
        "model.fit(X_train, y_train)\n",
        "\n",
        "round(r2_score(np.expm1(y_test), np.expm1(model.predict(X_test))), 2)"
      ]
    },
    {
      "cell_type": "code",
      "execution_count": null,
      "metadata": {
        "execution": {
          "iopub.execute_input": "2025-08-09T17:15:01.328010Z",
          "iopub.status.busy": "2025-08-09T17:15:01.326536Z",
          "iopub.status.idle": "2025-08-09T17:15:01.434169Z",
          "shell.execute_reply": "2025-08-09T17:15:01.432898Z",
          "shell.execute_reply.started": "2025-08-09T17:15:01.327969Z"
        },
        "id": "VHRoPxr3bTcy"
      },
      "outputs": [],
      "source": [
        "import pickle\n",
        "\n",
        "with open('model.pickle', 'wb') as f:\n",
        "    pickle.dump(model, f)"
      ]
    },
    {
      "cell_type": "markdown",
      "metadata": {
        "id": "LhjHeOsybTcy"
      },
      "source": [
        "**Итог**\n",
        "\n",
        "Результирующее значение метрики $R^{2}$ - 0.84.\n",
        "\n",
        "Модель была сохранена в файл."
      ]
    }
  ],
  "metadata": {
    "colab": {
      "provenance": []
    },
    "kernelspec": {
      "display_name": "DataSphere Kernel",
      "language": "python",
      "name": "python3"
    },
    "language_info": {
      "codemirror_mode": {
        "name": "ipython",
        "version": 3
      },
      "file_extension": ".py",
      "mimetype": "text/x-python",
      "name": "python",
      "nbconvert_exporter": "python",
      "pygments_lexer": "ipython3",
      "version": "3.10.12"
    }
  },
  "nbformat": 4,
  "nbformat_minor": 0
}